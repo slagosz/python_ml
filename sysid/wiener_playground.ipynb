{
 "cells": [
  {
   "cell_type": "code",
   "execution_count": 8,
   "metadata": {
    "pycharm": {
     "is_executing": false,
     "name": "#%% \n"
    }
   },
   "outputs": [],
   "source": [
    "from volterra import *\n",
    "import matplotlib.pyplot as plt\n",
    "\n",
    "\n",
    "order = 4\n",
    "mem_len = 2\n",
    "dictionary = VolterraDictionary(order, mem_len, dict_type='legendre_norm', include_constant_function=True)\n",
    "\n",
    "N = 10000\n",
    "x = np.random.uniform(-1, 1, N)\n",
    "\n",
    "y = np.zeros([dictionary.size, N - mem_len + 1])\n",
    "\n",
    "for f_idx in range(dictionary.size):\n",
    "    for t in range(mem_len - 1, N):\n",
    "        y[f_idx, t - mem_len + 1] = dictionary.dictionary[f_idx](x, t)\n",
    "        \n",
    "H = np.matmul(y, np.transpose(y)) / (N - mem_len + 1)\n",
    "\n"
   ]
  }
 ],
 "metadata": {
  "kernelspec": {
   "display_name": "Python 3",
   "language": "python",
   "name": "python3"
  },
  "language_info": {
   "codemirror_mode": {
    "name": "ipython",
    "version": 3
   },
   "file_extension": ".py",
   "mimetype": "text/x-python",
   "name": "python",
   "nbconvert_exporter": "python",
   "pygments_lexer": "ipython3",
   "version": "3.5.2"
  },
  "pycharm": {
   "stem_cell": {
    "cell_type": "raw",
    "source": [],
    "metadata": {
     "collapsed": false
    }
   }
  }
 },
 "nbformat": 4,
 "nbformat_minor": 1
}
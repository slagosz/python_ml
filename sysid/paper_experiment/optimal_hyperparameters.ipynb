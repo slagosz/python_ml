{
 "cells": [
  {
   "cell_type": "code",
   "execution_count": 91,
   "metadata": {
    "collapsed": true,
    "pycharm": {
     "is_executing": false,
     "name": "#%% load data\n"
    }
   },
   "outputs": [],
   "source": [
    "from scipy.io import loadmat\n",
    "import numpy as np\n",
    "\n",
    "data = loadmat('dataBenchmark.mat')\n",
    "\n",
    "u_est = np.squeeze(data['uEst'])\n",
    "y_est = np.squeeze(data['yEst'])\n",
    "u_val = np.squeeze(data['uVal'])\n",
    "y_val = np.squeeze(data['yVal'])"
   ]
  },
  {
   "cell_type": "code",
   "execution_count": 92,
   "outputs": [],
   "source": [
    "scale_parameter = np.abs(np.max(u_est))\n",
    "u_est /= scale_parameter\n",
    "u_val /= scale_parameter"
   ],
   "metadata": {
    "collapsed": false,
    "pycharm": {
     "name": "#%% scale data\n",
     "is_executing": false
    }
   }
  },
  {
   "cell_type": "code",
   "execution_count": 93,
   "outputs": [],
   "source": [
    "R_tab = [15, 16, 17, 18, 19]\n",
    "kernels_tab = [(100, 60, 10), (100, 60, 20), (80, 40, 10)]\n",
    "kernels_tab = [(100, 100, 15, 10)]\n",
    "R_tab = [24, 25, 26]"
   ],
   "metadata": {
    "collapsed": false,
    "pycharm": {
     "name": "#%% setup model parameters\n",
     "is_executing": false
    }
   }
  },
  {
   "cell_type": "code",
   "execution_count": 94,
   "outputs": [],
   "source": [
    "N = 1024"
   ],
   "metadata": {
    "collapsed": false,
    "pycharm": {
     "name": "#%% setup experiment parameters\n",
     "is_executing": false
    }
   }
  },
  {
   "cell_type": "code",
   "execution_count": 95,
   "outputs": [
    {
     "name": "stdout",
     "text": [
      "ERR: 1.102033513531323     R: 24      kernels: (100, 100, 15, 10)\n",
      "ERR: 1.101105961955169     R: 25      kernels: (100, 100, 15, 10)\n",
      "ERR: 1.135683312539585     R: 26      kernels: (100, 100, 15, 10)\n"
     ],
     "output_type": "stream"
    }
   ],
   "source": [
    "from volterra import *\n",
    "from aggregation import *\n",
    "\n",
    "e_aggr = {}\n",
    "\n",
    "for R in R_tab:\n",
    "    for kernels in kernels_tab:\n",
    "        model_memory_len = np.max(kernels)\n",
    "        x = u_est[model_memory_len - 1 : N - 1]\n",
    "        x0 = u_est[0 : model_memory_len - 1]\n",
    "        y = y_est[model_memory_len - 1 : N - 1]\n",
    "    \n",
    "        # aggregation\n",
    "        m_aggr = VolterraModel(kernels=kernels)\n",
    "        aggr_parameters = aggregation_for_volterra(m_aggr.dictionary, x, y, x0, R)\n",
    "        \n",
    "        # validate\n",
    "        m_aggr.set_parameters(aggr_parameters)\n",
    "        y_mod_aggr = m_aggr.evaluate_output(u_val)\n",
    "        err = 1 / len(u_val) * np.sum((y_mod_aggr - y_val) ** 2)\n",
    "        \n",
    "        print(\"ERR: {0}     R: {1}      kernels: {2}\".format(err, R, kernels))"
   ],
   "metadata": {
    "collapsed": false,
    "pycharm": {
     "name": "#%% experiment \n",
     "is_executing": false
    }
   }
  }
 ],
 "metadata": {
  "kernelspec": {
   "display_name": "Python 3",
   "language": "python",
   "name": "python3"
  },
  "language_info": {
   "codemirror_mode": {
    "name": "ipython",
    "version": 2
   },
   "file_extension": ".py",
   "mimetype": "text/x-python",
   "name": "python",
   "nbconvert_exporter": "python",
   "pygments_lexer": "ipython2",
   "version": "2.7.6"
  },
  "pycharm": {
   "stem_cell": {
    "cell_type": "raw",
    "source": [],
    "metadata": {
     "collapsed": false
    }
   }
  }
 },
 "nbformat": 4,
 "nbformat_minor": 0
}